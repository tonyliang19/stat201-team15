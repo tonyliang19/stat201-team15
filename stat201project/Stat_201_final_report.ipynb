{
 "cells": [
  {
   "cell_type": "markdown",
   "id": "18cab602",
   "metadata": {},
   "source": [
    "# Racial and ethnic disparities in COVID‐19 testing \n",
    "\n",
    "#### By: Tony Liang, Jack Fan, Minghao Wang"
   ]
  },
  {
   "cell_type": "markdown",
   "id": "674efcff",
   "metadata": {},
   "source": [
    "## 1. Introduction"
   ]
  },
  {
   "cell_type": "markdown",
   "id": "c3cc7cb4",
   "metadata": {
    "tags": []
   },
   "source": [
    "### 1.1 Background information on the topic\n",
    "\n",
    "A growing body of research suggests that race and ethnicity may affect the infection rates of COVID-19. Humans and viruses have been battling for thousands of years. We have encountered Black Death, Yellow Fever, 2009 H1N1, Spanish Flu, and more. These diseases have impacted us significantly throughout our history, killing millions of people and changing how our society was shaped. With the visit of COVID-19, people are feared and have taken some of the safety measures that we have never seen before, such as wearing masks. Covid-19 is an infectious disease, and it makes people wonder if race is an essential factor affecting novel Coronavirus infection rates, including different socioeconomic statuses and the different history of degrees of coronavirus exposure."
   ]
  },
  {
   "cell_type": "markdown",
   "id": "78294f2c",
   "metadata": {},
   "source": [
    "### 1.2 The Question \n",
    "\n",
    "Through this group project, we wish to answer the question: \n",
    "We want to compare whether there exist significant differences in the proportion of tested positive for COVID-19 among Black, White, Latin and Asian people in the State of the USA, with most cases in 2021. We selected these ethnicities because they are the composition of the population of the vast majority's cities in the world, and we chose explicitly in the year 2021 because that is where most cases occurred. More observations existed in the database, grouping these with `State` variables.\n"
   ]
  },
  {
   "cell_type": "markdown",
   "id": "050a522a",
   "metadata": {},
   "source": [
    "### 1.3 The Dataset\n",
    "\n",
    "We will use the CRDT Data Set to answer the question mentioned above. This dataset is based on the states' race and ethnicity reports on the pandemic across the United States, collected by Boston University Center for Antiracist Research. It consists of several numerical variables (cases, deaths of different races) and one categorical variable (State). For more information on the data we used, you can find it on the [Covid Tracking Project](https://covidtracking.com/race/about#download-the-data). About the Racial Data Tracker. (n.d.)\n"
   ]
  },
  {
   "cell_type": "markdown",
   "id": "38457286-d676-4d6d-8b58-7d8529582dfa",
   "metadata": {
    "tags": []
   },
   "source": [
    "## 2. Methods and Results"
   ]
  },
  {
   "cell_type": "markdown",
   "id": "d30e73cd",
   "metadata": {},
   "source": [
    "### 2.0 Libraries and Packages"
   ]
  },
  {
   "cell_type": "code",
   "execution_count": 2,
   "id": "2d53d3cc",
   "metadata": {
    "tags": []
   },
   "outputs": [],
   "source": [
    "#install.packages(\"ggrepel\")\n",
    "suppressMessages(library(tidyverse))\n",
    "suppressMessages(library(readr))\n",
    "suppressMessages(library(tidyr))\n",
    "suppressWarnings(library(dbplyr))\n",
    "suppressWarnings(library(lubridate))\n",
    "suppressWarnings(library(ggplot2))\n",
    "suppressWarnings(library(ggrepel))"
   ]
  },
  {
   "cell_type": "markdown",
   "id": "9d204994",
   "metadata": {},
   "source": [
    "### 2.1 Read the data into R"
   ]
  },
  {
   "cell_type": "code",
   "execution_count": 158,
   "id": "589b743f",
   "metadata": {
    "tags": []
   },
   "outputs": [
    {
     "name": "stderr",
     "output_type": "stream",
     "text": [
      "\u001b[1mRows: \u001b[22m\u001b[34m5320\u001b[39m \u001b[1mColumns: \u001b[22m\u001b[34m54\u001b[39m\n",
      "\n",
      "\u001b[36m──\u001b[39m \u001b[1mColumn specification\u001b[22m \u001b[36m────────────────────────────────────────────────────────\u001b[39m\n",
      "\u001b[1mDelimiter:\u001b[22m \",\"\n",
      "\u001b[31mchr\u001b[39m  (1): State\n",
      "\u001b[32mdbl\u001b[39m (53): Date, Cases_Total, Cases_White, Cases_Black, Cases_Latinx, Cases_A...\n",
      "\n",
      "\n",
      "\u001b[36mℹ\u001b[39m Use `spec()` to retrieve the full column specification for this data.\n",
      "\u001b[36mℹ\u001b[39m Specify the column types or set `show_col_types = FALSE` to quiet this message.\n",
      "\n"
     ]
    },
    {
     "name": "stdout",
     "output_type": "stream",
     "text": [
      "The dimenstion of this dataframe is:  5320 x 54"
     ]
    },
    {
     "data": {
      "text/html": [
       "<table class=\"dataframe\">\n",
       "<caption>A tibble: 6 × 54</caption>\n",
       "<thead>\n",
       "\t<tr><th scope=col>Date</th><th scope=col>State</th><th scope=col>Cases_Total</th><th scope=col>Cases_White</th><th scope=col>Cases_Black</th><th scope=col>Cases_Latinx</th><th scope=col>Cases_Asian</th><th scope=col>Cases_AIAN</th><th scope=col>Cases_NHPI</th><th scope=col>Cases_Multiracial</th><th scope=col>⋯</th><th scope=col>Tests_Latinx</th><th scope=col>Tests_Asian</th><th scope=col>Tests_AIAN</th><th scope=col>Tests_NHPI</th><th scope=col>Tests_Multiracial</th><th scope=col>Tests_Other</th><th scope=col>Tests_Unknown</th><th scope=col>Tests_Ethnicity_Hispanic</th><th scope=col>Tests_Ethnicity_NonHispanic</th><th scope=col>Tests_Ethnicity_Unknown</th></tr>\n",
       "\t<tr><th scope=col>&lt;dbl&gt;</th><th scope=col>&lt;chr&gt;</th><th scope=col>&lt;dbl&gt;</th><th scope=col>&lt;dbl&gt;</th><th scope=col>&lt;dbl&gt;</th><th scope=col>&lt;dbl&gt;</th><th scope=col>&lt;dbl&gt;</th><th scope=col>&lt;dbl&gt;</th><th scope=col>&lt;dbl&gt;</th><th scope=col>&lt;dbl&gt;</th><th scope=col>⋯</th><th scope=col>&lt;dbl&gt;</th><th scope=col>&lt;dbl&gt;</th><th scope=col>&lt;dbl&gt;</th><th scope=col>&lt;dbl&gt;</th><th scope=col>&lt;dbl&gt;</th><th scope=col>&lt;dbl&gt;</th><th scope=col>&lt;dbl&gt;</th><th scope=col>&lt;dbl&gt;</th><th scope=col>&lt;dbl&gt;</th><th scope=col>&lt;dbl&gt;</th></tr>\n",
       "</thead>\n",
       "<tbody>\n",
       "\t<tr><td>20210307</td><td>AK</td><td>  59332</td><td> 18300</td><td>  1499</td><td>     NA</td><td>  2447</td><td>12238</td><td> 1508</td><td> 4453</td><td>⋯</td><td>     NA</td><td>     NA</td><td>   NA</td><td>    NA</td><td>   NA</td><td>     NA</td><td>      NA</td><td>     NA</td><td>      NA</td><td>      NA</td></tr>\n",
       "\t<tr><td>20210307</td><td>AL</td><td> 499819</td><td>160347</td><td> 82790</td><td>     NA</td><td>  2273</td><td>   NA</td><td>   NA</td><td>   NA</td><td>⋯</td><td>     NA</td><td>     NA</td><td>   NA</td><td>    NA</td><td>   NA</td><td>     NA</td><td>      NA</td><td>     NA</td><td>      NA</td><td>      NA</td></tr>\n",
       "\t<tr><td>20210307</td><td>AR</td><td> 324818</td><td>207596</td><td> 50842</td><td>     NA</td><td>  2913</td><td> 1070</td><td> 3358</td><td> 1804</td><td>⋯</td><td>     NA</td><td>     NA</td><td>   NA</td><td>    NA</td><td>   NA</td><td>     NA</td><td>      NA</td><td>     NA</td><td>      NA</td><td>      NA</td></tr>\n",
       "\t<tr><td>20210307</td><td>AS</td><td>     NA</td><td>    NA</td><td>    NA</td><td>     NA</td><td>    NA</td><td>   NA</td><td>   NA</td><td>   NA</td><td>⋯</td><td>     NA</td><td>     NA</td><td>   NA</td><td>    NA</td><td>   NA</td><td>     NA</td><td>      NA</td><td>     NA</td><td>      NA</td><td>      NA</td></tr>\n",
       "\t<tr><td>20210307</td><td>AZ</td><td> 826454</td><td>308453</td><td> 25775</td><td> 244539</td><td> 11921</td><td>40707</td><td>   NA</td><td>   NA</td><td>⋯</td><td>     NA</td><td>     NA</td><td>   NA</td><td>    NA</td><td>   NA</td><td>     NA</td><td>      NA</td><td>     NA</td><td>      NA</td><td>      NA</td></tr>\n",
       "\t<tr><td>20210307</td><td>CA</td><td>3501394</td><td>546630</td><td>111279</td><td>1509103</td><td>186562</td><td> 9025</td><td>15281</td><td>42824</td><td>⋯</td><td>9444459</td><td>3980518</td><td>98894</td><td>222513</td><td>74171</td><td>6354689</td><td>18567612</td><td>9444459</td><td>21633943</td><td>18567612</td></tr>\n",
       "</tbody>\n",
       "</table>\n"
      ],
      "text/latex": [
       "A tibble: 6 × 54\n",
       "\\begin{tabular}{lllllllllllllllllllll}\n",
       " Date & State & Cases\\_Total & Cases\\_White & Cases\\_Black & Cases\\_Latinx & Cases\\_Asian & Cases\\_AIAN & Cases\\_NHPI & Cases\\_Multiracial & ⋯ & Tests\\_Latinx & Tests\\_Asian & Tests\\_AIAN & Tests\\_NHPI & Tests\\_Multiracial & Tests\\_Other & Tests\\_Unknown & Tests\\_Ethnicity\\_Hispanic & Tests\\_Ethnicity\\_NonHispanic & Tests\\_Ethnicity\\_Unknown\\\\\n",
       " <dbl> & <chr> & <dbl> & <dbl> & <dbl> & <dbl> & <dbl> & <dbl> & <dbl> & <dbl> & ⋯ & <dbl> & <dbl> & <dbl> & <dbl> & <dbl> & <dbl> & <dbl> & <dbl> & <dbl> & <dbl>\\\\\n",
       "\\hline\n",
       "\t 20210307 & AK &   59332 &  18300 &   1499 &      NA &   2447 & 12238 &  1508 &  4453 & ⋯ &      NA &      NA &    NA &     NA &    NA &      NA &       NA &      NA &       NA &       NA\\\\\n",
       "\t 20210307 & AL &  499819 & 160347 &  82790 &      NA &   2273 &    NA &    NA &    NA & ⋯ &      NA &      NA &    NA &     NA &    NA &      NA &       NA &      NA &       NA &       NA\\\\\n",
       "\t 20210307 & AR &  324818 & 207596 &  50842 &      NA &   2913 &  1070 &  3358 &  1804 & ⋯ &      NA &      NA &    NA &     NA &    NA &      NA &       NA &      NA &       NA &       NA\\\\\n",
       "\t 20210307 & AS &      NA &     NA &     NA &      NA &     NA &    NA &    NA &    NA & ⋯ &      NA &      NA &    NA &     NA &    NA &      NA &       NA &      NA &       NA &       NA\\\\\n",
       "\t 20210307 & AZ &  826454 & 308453 &  25775 &  244539 &  11921 & 40707 &    NA &    NA & ⋯ &      NA &      NA &    NA &     NA &    NA &      NA &       NA &      NA &       NA &       NA\\\\\n",
       "\t 20210307 & CA & 3501394 & 546630 & 111279 & 1509103 & 186562 &  9025 & 15281 & 42824 & ⋯ & 9444459 & 3980518 & 98894 & 222513 & 74171 & 6354689 & 18567612 & 9444459 & 21633943 & 18567612\\\\\n",
       "\\end{tabular}\n"
      ],
      "text/markdown": [
       "\n",
       "A tibble: 6 × 54\n",
       "\n",
       "| Date &lt;dbl&gt; | State &lt;chr&gt; | Cases_Total &lt;dbl&gt; | Cases_White &lt;dbl&gt; | Cases_Black &lt;dbl&gt; | Cases_Latinx &lt;dbl&gt; | Cases_Asian &lt;dbl&gt; | Cases_AIAN &lt;dbl&gt; | Cases_NHPI &lt;dbl&gt; | Cases_Multiracial &lt;dbl&gt; | ⋯ ⋯ | Tests_Latinx &lt;dbl&gt; | Tests_Asian &lt;dbl&gt; | Tests_AIAN &lt;dbl&gt; | Tests_NHPI &lt;dbl&gt; | Tests_Multiracial &lt;dbl&gt; | Tests_Other &lt;dbl&gt; | Tests_Unknown &lt;dbl&gt; | Tests_Ethnicity_Hispanic &lt;dbl&gt; | Tests_Ethnicity_NonHispanic &lt;dbl&gt; | Tests_Ethnicity_Unknown &lt;dbl&gt; |\n",
       "|---|---|---|---|---|---|---|---|---|---|---|---|---|---|---|---|---|---|---|---|---|\n",
       "| 20210307 | AK |   59332 |  18300 |   1499 |      NA |   2447 | 12238 |  1508 |  4453 | ⋯ |      NA |      NA |    NA |     NA |    NA |      NA |       NA |      NA |       NA |       NA |\n",
       "| 20210307 | AL |  499819 | 160347 |  82790 |      NA |   2273 |    NA |    NA |    NA | ⋯ |      NA |      NA |    NA |     NA |    NA |      NA |       NA |      NA |       NA |       NA |\n",
       "| 20210307 | AR |  324818 | 207596 |  50842 |      NA |   2913 |  1070 |  3358 |  1804 | ⋯ |      NA |      NA |    NA |     NA |    NA |      NA |       NA |      NA |       NA |       NA |\n",
       "| 20210307 | AS |      NA |     NA |     NA |      NA |     NA |    NA |    NA |    NA | ⋯ |      NA |      NA |    NA |     NA |    NA |      NA |       NA |      NA |       NA |       NA |\n",
       "| 20210307 | AZ |  826454 | 308453 |  25775 |  244539 |  11921 | 40707 |    NA |    NA | ⋯ |      NA |      NA |    NA |     NA |    NA |      NA |       NA |      NA |       NA |       NA |\n",
       "| 20210307 | CA | 3501394 | 546630 | 111279 | 1509103 | 186562 |  9025 | 15281 | 42824 | ⋯ | 9444459 | 3980518 | 98894 | 222513 | 74171 | 6354689 | 18567612 | 9444459 | 21633943 | 18567612 |\n",
       "\n"
      ],
      "text/plain": [
       "  Date     State Cases_Total Cases_White Cases_Black Cases_Latinx Cases_Asian\n",
       "1 20210307 AK      59332      18300        1499           NA        2447     \n",
       "2 20210307 AL     499819     160347       82790           NA        2273     \n",
       "3 20210307 AR     324818     207596       50842           NA        2913     \n",
       "4 20210307 AS         NA         NA          NA           NA          NA     \n",
       "5 20210307 AZ     826454     308453       25775       244539       11921     \n",
       "6 20210307 CA    3501394     546630      111279      1509103      186562     \n",
       "  Cases_AIAN Cases_NHPI Cases_Multiracial ⋯ Tests_Latinx Tests_Asian Tests_AIAN\n",
       "1 12238       1508       4453             ⋯      NA           NA        NA     \n",
       "2    NA         NA         NA             ⋯      NA           NA        NA     \n",
       "3  1070       3358       1804             ⋯      NA           NA        NA     \n",
       "4    NA         NA         NA             ⋯      NA           NA        NA     \n",
       "5 40707         NA         NA             ⋯      NA           NA        NA     \n",
       "6  9025      15281      42824             ⋯ 9444459      3980518     98894     \n",
       "  Tests_NHPI Tests_Multiracial Tests_Other Tests_Unknown\n",
       "1     NA        NA                  NA           NA     \n",
       "2     NA        NA                  NA           NA     \n",
       "3     NA        NA                  NA           NA     \n",
       "4     NA        NA                  NA           NA     \n",
       "5     NA        NA                  NA           NA     \n",
       "6 222513     74171             6354689     18567612     \n",
       "  Tests_Ethnicity_Hispanic Tests_Ethnicity_NonHispanic Tests_Ethnicity_Unknown\n",
       "1      NA                        NA                          NA               \n",
       "2      NA                        NA                          NA               \n",
       "3      NA                        NA                          NA               \n",
       "4      NA                        NA                          NA               \n",
       "5      NA                        NA                          NA               \n",
       "6 9444459                  21633943                    18567612               "
      ]
     },
     "metadata": {},
     "output_type": "display_data"
    }
   ],
   "source": [
    "df <- read_csv(\"crdt-data.csv\")\n",
    "cat(\"The dimenstion of this dataframe is: \", dim(df)[1], \"x\", dim(df)[2])\n",
    "head(df)\n"
   ]
  },
  {
   "cell_type": "markdown",
   "id": "09e11b26-46ed-40b2-a783-c8c571f74808",
   "metadata": {
    "jp-MarkdownHeadingCollapsed": true,
    "tags": []
   },
   "source": [
    "After reading data, we noticed that this raw data consists of 5320 observations (rows) and 54 variables (columns), whereas there exist many NA values. This suggests that we need to clean and wrangle it into a tidier data to work with, plus, selecting our interest variables. We are interested in estimating proportions of tested positive among selected ethnicities, and categorize them by `Date`, `State`. Hence, we will only keep the following variables:\n",
    "`Cases_White`, `Cases_Black`, `Cases_Latinx`, `Cases_Asian`, `Date`,`State`. \n",
    "<br>\n",
    "</br>\n",
    "\n",
    "Note: The `Cases_Total` in the dataset is sum of multiple ethnicities of not only those mentioned above, hence we will not select that it but instead generating a new `Total_pos` column , such that it is equal to `Cases_White` + `Cases_Black` + `Cases_Latinx`+ `Cases_Asian`, therefore when calulating proportion, they add up to 1, such they are on the same scale.\n",
    "\n",
    "Moreover, for the simplicity of this project, we will assume these data were Missing Completely At Random (MCAR), therefore dropping all NA values. "
   ]
  },
  {
   "cell_type": "markdown",
   "id": "cf1d7b7b",
   "metadata": {},
   "source": [
    "### 2.2 Clean and wrangle data into a tidy format"
   ]
  },
  {
   "cell_type": "code",
   "execution_count": 5,
   "id": "d3309246",
   "metadata": {
    "tags": []
   },
   "outputs": [
    {
     "data": {
      "text/html": [
       "<table class=\"dataframe\">\n",
       "<caption>A tibble: 6 × 6</caption>\n",
       "<thead>\n",
       "\t<tr><th scope=col>Date</th><th scope=col>State</th><th scope=col>Cases_White</th><th scope=col>Cases_Black</th><th scope=col>Cases_Latinx</th><th scope=col>Cases_Asian</th></tr>\n",
       "\t<tr><th scope=col>&lt;dbl&gt;</th><th scope=col>&lt;chr&gt;</th><th scope=col>&lt;dbl&gt;</th><th scope=col>&lt;dbl&gt;</th><th scope=col>&lt;dbl&gt;</th><th scope=col>&lt;dbl&gt;</th></tr>\n",
       "</thead>\n",
       "<tbody>\n",
       "\t<tr><td>20210307</td><td>AZ</td><td>308453</td><td> 25775</td><td> 244539</td><td> 11921</td></tr>\n",
       "\t<tr><td>20210307</td><td>CA</td><td>546630</td><td>111279</td><td>1509103</td><td>186562</td></tr>\n",
       "\t<tr><td>20210307</td><td>CO</td><td>181669</td><td> 12637</td><td> 119224</td><td>  6406</td></tr>\n",
       "\t<tr><td>20210307</td><td>CT</td><td> 85469</td><td> 19651</td><td>  41523</td><td>  3019</td></tr>\n",
       "\t<tr><td>20210307</td><td>DE</td><td> 42730</td><td> 19768</td><td>  14532</td><td>  1842</td></tr>\n",
       "\t<tr><td>20210307</td><td>GA</td><td>319208</td><td>216068</td><td>  85460</td><td> 17888</td></tr>\n",
       "</tbody>\n",
       "</table>\n"
      ],
      "text/latex": [
       "A tibble: 6 × 6\n",
       "\\begin{tabular}{llllll}\n",
       " Date & State & Cases\\_White & Cases\\_Black & Cases\\_Latinx & Cases\\_Asian\\\\\n",
       " <dbl> & <chr> & <dbl> & <dbl> & <dbl> & <dbl>\\\\\n",
       "\\hline\n",
       "\t 20210307 & AZ & 308453 &  25775 &  244539 &  11921\\\\\n",
       "\t 20210307 & CA & 546630 & 111279 & 1509103 & 186562\\\\\n",
       "\t 20210307 & CO & 181669 &  12637 &  119224 &   6406\\\\\n",
       "\t 20210307 & CT &  85469 &  19651 &   41523 &   3019\\\\\n",
       "\t 20210307 & DE &  42730 &  19768 &   14532 &   1842\\\\\n",
       "\t 20210307 & GA & 319208 & 216068 &   85460 &  17888\\\\\n",
       "\\end{tabular}\n"
      ],
      "text/markdown": [
       "\n",
       "A tibble: 6 × 6\n",
       "\n",
       "| Date &lt;dbl&gt; | State &lt;chr&gt; | Cases_White &lt;dbl&gt; | Cases_Black &lt;dbl&gt; | Cases_Latinx &lt;dbl&gt; | Cases_Asian &lt;dbl&gt; |\n",
       "|---|---|---|---|---|---|\n",
       "| 20210307 | AZ | 308453 |  25775 |  244539 |  11921 |\n",
       "| 20210307 | CA | 546630 | 111279 | 1509103 | 186562 |\n",
       "| 20210307 | CO | 181669 |  12637 |  119224 |   6406 |\n",
       "| 20210307 | CT |  85469 |  19651 |   41523 |   3019 |\n",
       "| 20210307 | DE |  42730 |  19768 |   14532 |   1842 |\n",
       "| 20210307 | GA | 319208 | 216068 |   85460 |  17888 |\n",
       "\n"
      ],
      "text/plain": [
       "  Date     State Cases_White Cases_Black Cases_Latinx Cases_Asian\n",
       "1 20210307 AZ    308453       25775       244539       11921     \n",
       "2 20210307 CA    546630      111279      1509103      186562     \n",
       "3 20210307 CO    181669       12637       119224        6406     \n",
       "4 20210307 CT     85469       19651        41523        3019     \n",
       "5 20210307 DE     42730       19768        14532        1842     \n",
       "6 20210307 GA    319208      216068        85460       17888     "
      ]
     },
     "metadata": {},
     "output_type": "display_data"
    },
    {
     "name": "stdout",
     "output_type": "stream",
     "text": [
      "The dimenstion of cases_piped is:  1941 x 6"
     ]
    }
   ],
   "source": [
    "cases_piped <- df %>%\n",
    "    select(Date, State, Cases_White:Cases_Asian) %>%\n",
    "    drop_na() \n",
    "head(cases_piped)\n",
    "cat(\"The dimenstion of cases_piped is: \", \n",
    "    dim(cases_piped)[1], \"x\", dim(cases_piped)[2])"
   ]
  },
  {
   "cell_type": "markdown",
   "id": "4b096ab2-0948-4958-82b5-a99665a6b62b",
   "metadata": {},
   "source": [
    "After selecting only those interested variables (mentioned above) and dropping the NA values, we noticed the data is still a bit large and unorganized, plus, `Date` is shown in YYYYMMDD format, and the total number states is also unknown. Hence, we will separate this `Date` column into `Year`, `Month`, `Day`, then look for time spread, plus, unique values of States in here as data formatted as reports on cases from all states weekly."
   ]
  },
  {
   "cell_type": "code",
   "execution_count": 7,
   "id": "df295a6a",
   "metadata": {
    "tags": []
   },
   "outputs": [
    {
     "name": "stdout",
     "output_type": "stream",
     "text": [
      "The total number of unquie and non-NA States in this dataframe is:  23 \n"
     ]
    },
    {
     "data": {
      "text/html": [
       "<table class=\"dataframe\">\n",
       "<caption>A matrix: 1 × 2 of type dbl</caption>\n",
       "<tbody>\n",
       "\t<tr><th scope=row>Year</th><td>2021</td><td>2020</td></tr>\n",
       "</tbody>\n",
       "</table>\n"
      ],
      "text/latex": [
       "A matrix: 1 × 2 of type dbl\n",
       "\\begin{tabular}{r|ll}\n",
       "\tYear & 2021 & 2020\\\\\n",
       "\\end{tabular}\n"
      ],
      "text/markdown": [
       "\n",
       "A matrix: 1 × 2 of type dbl\n",
       "\n",
       "| Year | 2021 | 2020 |\n",
       "\n"
      ],
      "text/plain": [
       "     [,1] [,2]\n",
       "Year 2021 2020"
      ]
     },
     "metadata": {},
     "output_type": "display_data"
    }
   ],
   "source": [
    "cases_tidy <- cases_piped %>%\n",
    "           mutate(Date = lubridate::ymd(Date),\n",
    "                  Year = lubridate::year(Date),\n",
    "                  Month = lubridate::month(Date),\n",
    "                  Day = lubridate::day(Date)) %>%\n",
    "           select(-Date)\n",
    "\n",
    "years <- cases_tidy %>%\n",
    "         select(Year) %>%\n",
    "         unique() %>%\n",
    "         t() \n",
    "\n",
    "n_states <- length(unique(cases_tidy$State))\n",
    "\n",
    "cat(\"The total number of unquie and non-NA States in this dataframe is: \", n_states, \"\\n\")\n",
    "years"
   ]
  },
  {
   "cell_type": "markdown",
   "id": "20b0ffb3-83ef-40fb-8976-ff8afeec86c1",
   "metadata": {},
   "source": [
    "The tidy data only contains observations of `Year` of 2021 and 2020, and total of 23 states that are unique and have <b> no NAs</b>. Then, we will find only in `Year = 2021` (reason mentioned earlier) , `State` whose occured most cases by adding them all together and assigned it to a dataframe called `max_cases`."
   ]
  },
  {
   "cell_type": "code",
   "execution_count": 9,
   "id": "af549703-bf55-4d4e-9d9a-970f3cf04e80",
   "metadata": {
    "tags": []
   },
   "outputs": [
    {
     "data": {
      "text/html": [
       "<table class=\"dataframe\">\n",
       "<caption>A tibble: 6 × 2</caption>\n",
       "<thead>\n",
       "\t<tr><th scope=col>State</th><th scope=col>Total_pos</th></tr>\n",
       "\t<tr><th scope=col>&lt;chr&gt;</th><th scope=col>&lt;dbl&gt;</th></tr>\n",
       "</thead>\n",
       "<tbody>\n",
       "\t<tr><td>CA</td><td>39044983</td></tr>\n",
       "\t<tr><td>IL</td><td>14230188</td></tr>\n",
       "\t<tr><td>GA</td><td>10564091</td></tr>\n",
       "\t<tr><td>AZ</td><td> 9752653</td></tr>\n",
       "\t<tr><td>NJ</td><td> 8381060</td></tr>\n",
       "\t<tr><td>MN</td><td> 7650507</td></tr>\n",
       "</tbody>\n",
       "</table>\n"
      ],
      "text/latex": [
       "A tibble: 6 × 2\n",
       "\\begin{tabular}{ll}\n",
       " State & Total\\_pos\\\\\n",
       " <chr> & <dbl>\\\\\n",
       "\\hline\n",
       "\t CA & 39044983\\\\\n",
       "\t IL & 14230188\\\\\n",
       "\t GA & 10564091\\\\\n",
       "\t AZ &  9752653\\\\\n",
       "\t NJ &  8381060\\\\\n",
       "\t MN &  7650507\\\\\n",
       "\\end{tabular}\n"
      ],
      "text/markdown": [
       "\n",
       "A tibble: 6 × 2\n",
       "\n",
       "| State &lt;chr&gt; | Total_pos &lt;dbl&gt; |\n",
       "|---|---|\n",
       "| CA | 39044983 |\n",
       "| IL | 14230188 |\n",
       "| GA | 10564091 |\n",
       "| AZ |  9752653 |\n",
       "| NJ |  8381060 |\n",
       "| MN |  7650507 |\n",
       "\n"
      ],
      "text/plain": [
       "  State Total_pos\n",
       "1 CA    39044983 \n",
       "2 IL    14230188 \n",
       "3 GA    10564091 \n",
       "4 AZ     9752653 \n",
       "5 NJ     8381060 \n",
       "6 MN     7650507 "
      ]
     },
     "metadata": {},
     "output_type": "display_data"
    }
   ],
   "source": [
    "options(repr.plot.width = 10, repr.plot.height = 10)\n",
    "max_cases <- cases_tidy %>%\n",
    "           filter(Year == 2021) %>%\n",
    "           ungroup() %>%\n",
    "           select(-Year) %>%\n",
    "           group_by(State) %>%\n",
    "           summarize(Total_pos = sum(Cases_Asian, Cases_White, Cases_Black, Cases_Latinx)) %>% \n",
    "           arrange(desc(Total_pos))\n",
    "head(max_cases)"
   ]
  },
  {
   "cell_type": "markdown",
   "id": "4942dd30-fae9-4ffb-9db8-59d5d8b097ee",
   "metadata": {},
   "source": [
    "A visualization of total number of positive cases of these 23 states is represented at section 2.3 (See below)"
   ]
  },
  {
   "cell_type": "markdown",
   "id": "a2047a31-fc02-4533-9125-cd5ffa06bbba",
   "metadata": {},
   "source": [
    "Given the dataframe above, California (CA) has highest number of positive cases of the pandemic in 2021, so we will focus on `State == \"CA\"` and in `Year == 2021` only"
   ]
  },
  {
   "cell_type": "code",
   "execution_count": 20,
   "id": "b2d4231c",
   "metadata": {
    "tags": []
   },
   "outputs": [
    {
     "data": {
      "text/html": [
       "<table class=\"dataframe\">\n",
       "<caption>A tibble: 6 × 5</caption>\n",
       "<thead>\n",
       "\t<tr><th scope=col>State</th><th scope=col>Cases_White</th><th scope=col>Cases_Black</th><th scope=col>Cases_Latinx</th><th scope=col>Cases_Asian</th></tr>\n",
       "\t<tr><th scope=col>&lt;chr&gt;</th><th scope=col>&lt;dbl&gt;</th><th scope=col>&lt;dbl&gt;</th><th scope=col>&lt;dbl&gt;</th><th scope=col>&lt;dbl&gt;</th></tr>\n",
       "</thead>\n",
       "<tbody>\n",
       "\t<tr><td>CA</td><td>546630</td><td>111279</td><td>1509103</td><td>186562</td></tr>\n",
       "\t<tr><td>CA</td><td>541927</td><td>110115</td><td>1494376</td><td>184765</td></tr>\n",
       "\t<tr><td>CA</td><td>539466</td><td>109591</td><td>1487225</td><td>183711</td></tr>\n",
       "\t<tr><td>CA</td><td>534330</td><td>108479</td><td>1472040</td><td>181664</td></tr>\n",
       "\t<tr><td>CA</td><td>530958</td><td>107741</td><td>1462751</td><td>180258</td></tr>\n",
       "\t<tr><td>CA</td><td>524753</td><td>106400</td><td>1446427</td><td>177919</td></tr>\n",
       "</tbody>\n",
       "</table>\n"
      ],
      "text/latex": [
       "A tibble: 6 × 5\n",
       "\\begin{tabular}{lllll}\n",
       " State & Cases\\_White & Cases\\_Black & Cases\\_Latinx & Cases\\_Asian\\\\\n",
       " <chr> & <dbl> & <dbl> & <dbl> & <dbl>\\\\\n",
       "\\hline\n",
       "\t CA & 546630 & 111279 & 1509103 & 186562\\\\\n",
       "\t CA & 541927 & 110115 & 1494376 & 184765\\\\\n",
       "\t CA & 539466 & 109591 & 1487225 & 183711\\\\\n",
       "\t CA & 534330 & 108479 & 1472040 & 181664\\\\\n",
       "\t CA & 530958 & 107741 & 1462751 & 180258\\\\\n",
       "\t CA & 524753 & 106400 & 1446427 & 177919\\\\\n",
       "\\end{tabular}\n"
      ],
      "text/markdown": [
       "\n",
       "A tibble: 6 × 5\n",
       "\n",
       "| State &lt;chr&gt; | Cases_White &lt;dbl&gt; | Cases_Black &lt;dbl&gt; | Cases_Latinx &lt;dbl&gt; | Cases_Asian &lt;dbl&gt; |\n",
       "|---|---|---|---|---|\n",
       "| CA | 546630 | 111279 | 1509103 | 186562 |\n",
       "| CA | 541927 | 110115 | 1494376 | 184765 |\n",
       "| CA | 539466 | 109591 | 1487225 | 183711 |\n",
       "| CA | 534330 | 108479 | 1472040 | 181664 |\n",
       "| CA | 530958 | 107741 | 1462751 | 180258 |\n",
       "| CA | 524753 | 106400 | 1446427 | 177919 |\n",
       "\n"
      ],
      "text/plain": [
       "  State Cases_White Cases_Black Cases_Latinx Cases_Asian\n",
       "1 CA    546630      111279      1509103      186562     \n",
       "2 CA    541927      110115      1494376      184765     \n",
       "3 CA    539466      109591      1487225      183711     \n",
       "4 CA    534330      108479      1472040      181664     \n",
       "5 CA    530958      107741      1462751      180258     \n",
       "6 CA    524753      106400      1446427      177919     "
      ]
     },
     "metadata": {},
     "output_type": "display_data"
    }
   ],
   "source": [
    "tidy_ca <- cases_tidy %>%\n",
    "           filter(State == \"CA\", Year == 2021) %>%\n",
    "           select(-Year, -Day, -Month)\n",
    "\n",
    "head(tidy_ca)"
   ]
  },
  {
   "cell_type": "markdown",
   "id": "7baf157f",
   "metadata": {},
   "source": [
    "### 2.3 Plot the relevant raw data, tailoring your plot in a way that addresses your question."
   ]
  },
  {
   "cell_type": "code",
   "execution_count": 21,
   "id": "eabcc800",
   "metadata": {
    "tags": []
   },
   "outputs": [
    {
     "data": {
      "image/png": "[encoded data removed]",
      "text/plain": [
       "plot without title"
      ]
     },
     "metadata": {
      "image/png": {
       "height": 360,
       "width": 600
      }
     },
     "output_type": "display_data"
    }
   ],
   "source": [
    "options(repr.plot.width=10, repr.plot.height=6)\n",
    "cases_plot <- ggplot(max_cases, aes(x = State, y = Total_pos)) + \n",
    "              geom_bar(stat = \"identity\") + \n",
    "              labs(title = \"State VS Total Positive Cases\") +\n",
    "              theme(text = element_text(size = 20))\n",
    "cases_plot\n"
   ]
  },
  {
   "cell_type": "markdown",
   "id": "36db31c6-694f-4e4f-b7c0-e695671385b4",
   "metadata": {},
   "source": [
    "By the plot above, total positive cases of California is significantly higher than other states, therefore, we would focus on California's data only , and calculate the proportion of different ethinicities getting tested positive for COVID-19 eg. for White, Black, Asian and Latin people during the year of 2021."
   ]
  },
  {
   "cell_type": "markdown",
   "id": "48e3ed67",
   "metadata": {},
   "source": [
    "### 2.4 Compute estimates "
   ]
  },
  {
   "cell_type": "code",
   "execution_count": 59,
   "id": "155913d0",
   "metadata": {
    "tags": []
   },
   "outputs": [
    {
     "data": {
      "text/html": [
       "<table class=\"dataframe\">\n",
       "<caption>A tibble: 4 × 2</caption>\n",
       "<thead>\n",
       "\t<tr><th scope=col>ethnicity</th><th scope=col>proportion</th></tr>\n",
       "\t<tr><th scope=col>&lt;chr&gt;</th><th scope=col>&lt;dbl&gt;</th></tr>\n",
       "</thead>\n",
       "<tbody>\n",
       "\t<tr><td>Latinx</td><td>0.6405</td></tr>\n",
       "\t<tr><td>White </td><td>0.2318</td></tr>\n",
       "\t<tr><td>Asian </td><td>0.0776</td></tr>\n",
       "\t<tr><td>Black </td><td>0.0501</td></tr>\n",
       "</tbody>\n",
       "</table>\n"
      ],
      "text/latex": [
       "A tibble: 4 × 2\n",
       "\\begin{tabular}{ll}\n",
       " ethnicity & proportion\\\\\n",
       " <chr> & <dbl>\\\\\n",
       "\\hline\n",
       "\t Latinx & 0.6405\\\\\n",
       "\t White  & 0.2318\\\\\n",
       "\t Asian  & 0.0776\\\\\n",
       "\t Black  & 0.0501\\\\\n",
       "\\end{tabular}\n"
      ],
      "text/markdown": [
       "\n",
       "A tibble: 4 × 2\n",
       "\n",
       "| ethnicity &lt;chr&gt; | proportion &lt;dbl&gt; |\n",
       "|---|---|\n",
       "| Latinx | 0.6405 |\n",
       "| White  | 0.2318 |\n",
       "| Asian  | 0.0776 |\n",
       "| Black  | 0.0501 |\n",
       "\n"
      ],
      "text/plain": [
       "  ethnicity proportion\n",
       "1 Latinx    0.6405    \n",
       "2 White     0.2318    \n",
       "3 Asian     0.0776    \n",
       "4 Black     0.0501    "
      ]
     },
     "metadata": {},
     "output_type": "display_data"
    }
   ],
   "source": [
    "cali_prop <- tidy_ca %>%\n",
    "              summarize(Total_pos = sum(Cases_White, Cases_Asian, Cases_Black, Cases_Latinx),\n",
    "                        Asian = round(sum(Cases_Asian) / sum(Total_pos),4),\n",
    "                        Black = round(sum(Cases_Black) / sum(Total_pos),4),\n",
    "                        Latinx = round(sum(Cases_Latinx) / sum(Total_pos),4),\n",
    "                       White = round(sum(Cases_White) / sum(Total_pos),4)) %>%\n",
    "               select(-Total_pos) %>%\n",
    "              pivot_longer(cols = 1:4,\n",
    "                          names_to = \"ethnicity\") %>%\n",
    "              rename(proportion = value) %>%\n",
    "              arrange(desc(proportion))\n",
    "\n",
    "cali_prop"
   ]
  },
  {
   "cell_type": "markdown",
   "id": "e2df2cdf-5521-4ff4-827b-c9faae92195f",
   "metadata": {},
   "source": [
    "Below is the visualization of these summary statistics(estimates):"
   ]
  },
  {
   "cell_type": "code",
   "execution_count": 60,
   "id": "a87ae029-f7f8-4874-a829-549e67fecad0",
   "metadata": {},
   "outputs": [
    {
     "data": {
      "image/png": "[encoded data removed]",
      "text/plain": [
       "plot without title"
      ]
     },
     "metadata": {
      "image/png": {
       "height": 480,
       "width": 720
      }
     },
     "output_type": "display_data"
    }
   ],
   "source": [
    "options(repr.plot.width = 12, repr.plot.height = 8)\n",
    "pie <- ggplot(cali_prop, aes(x = \"\", y = proportion, fill = ethnicity)) +\n",
    "     geom_bar(width = 1, stat = \"identity\") +\n",
    "     coord_polar(theta = \"y\") +\n",
    "     theme(text = element_text(size = 20),\n",
    "         legend.key.size = unit(1, \"cm\"),\n",
    "           legend.key.height = unit(1, \"cm\"),\n",
    "            legend.key.width = unit(1, \"cm\"),\n",
    "            legend.title = element_text(size = 25),\n",
    "            legend.text = element_text(size = 20)) +\n",
    "          geom_label_repel(aes(label = paste0(round(proportion * 100, 2), \"%\")),\n",
    "                               size = 10,\n",
    "                           show.legend = F, position = position_stack(vjust = 0.5)) + \n",
    "       guides(fill = guide_legend(title = \"Ethnicity\")) \n",
    "pie"
   ]
  },
  {
   "cell_type": "markdown",
   "id": "c48cf8e2",
   "metadata": {},
   "source": [
    "### 2.5 Method set up\n",
    "\n",
    "By doing this project, we want to explore and find out if distinct races have different chances of catching COVID-19, or they all races have the same chance. But, since we dont know the population distribution in the `State` we found earlier (<b>CA</b>), we could instead make pairwise comparison between the ethnicies. Since we have 4 races, it will be necessary to perform ${4 \\choose 2} = 6$ hypothesis tests: \n",
    "Let the following be our hypotheses:\n",
    "\n",
    "Let $a =$ Asian , $b =$ Black, $l =$ Latinx , $w =$ White\n",
    "\n",
    "1. $H_{0}: p_a = p_b$ VS $H_{A}: p_a \\neq p_b$\n",
    "\n",
    "2. $H_{0}: p_a = p_l$ VS $H_{A}: p_a \\neq p_l$\n",
    "\n",
    "3. $H_{0}: p_a = p_w$ VS $H_{A}: p_a \\neq p_w$\n",
    "\n",
    "4. $H_{0}: p_b = p_l$ VS $H_{A}: p_b \\neq p_l$\n",
    "\n",
    "5. $H_{0}: p_b = p_w$ VS $H_{A}: p_b \\neq p_w$\n",
    "\n",
    "6. $H_{0}: p_l = p_w$ VS $H_{A}: p_l \\neq p_w$\n",
    "\n",
    "All at $\\alpha = 0.05$, given our dataset was collected by random sampling, and observations independent of others, we would use asymtoptics to compute test stastics and evaluate our hypotheses in the section below  \n"
   ]
  },
  {
   "cell_type": "markdown",
   "id": "420a7247-9d6f-441b-b262-9882d5ad1cb8",
   "metadata": {
    "tags": []
   },
   "source": [
    "### 2.6 Test Statistics and Results"
   ]
  },
  {
   "cell_type": "markdown",
   "id": "fa0398de-1c1c-491a-ba33-0e7cf36dfeea",
   "metadata": {},
   "source": [
    "We have calculated sample proportions for the 4 races earlier and assigned it to `Cali_prop`, therefore we just need to grab proportions from there and calculate their respective test statistic : \n",
    "$$\n",
    "Z = \\frac{\\hat{p}_1 - \\hat{p}_2}{\\sqrt{\\hat{p}(1-\\hat{p})\\left(\\frac{1}{n_1} + \\frac{1}{n_2}\\right)}}\n",
    "$$\n",
    "where $\\hat{p}_1$ and $\\hat{p}_2$ are the sample proportions in samples 1 and 2, respectively; $n$ is the sample size; and $\\hat{p}$ is the pooled proportion, given by: \n",
    "\n",
    "$$\\hat{p} = \\frac{n_1\\hat{p}_1+n_2\\hat{p}_2}{n_1+n_2}$$ \n",
    "\n",
    "But since in our case n is same among races, hence the above formula would turn to the following:\n",
    "\n",
    "$$\n",
    "Z = \\frac{\\hat{p}_1 - \\hat{p}_2}{\\sqrt{\\hat{p}(1-\\hat{p})\\left(\\frac{1}{n} + \\frac{1}{n}\\right)}}\n",
    "$$\n",
    "\n",
    "And,\n",
    "$$\\hat{p} = \\frac{\\hat{p}_1+\\hat{p}_2}{n}$$ \n",
    "\n",
    "Since, in this case, we dont know if population distribution is normal or not, hence we need to rely on the CLT. "
   ]
  },
  {
   "cell_type": "code",
   "execution_count": 157,
   "id": "6b5c0635-45e6-471e-a33d-ac700e4bfacc",
   "metadata": {},
   "outputs": [
    {
     "data": {
      "text/html": [
       "<table class=\"dataframe\">\n",
       "<caption>A tibble: 6 × 3</caption>\n",
       "<thead>\n",
       "\t<tr><th scope=col>T</th><th scope=col>stat</th><th scope=col>reject</th></tr>\n",
       "\t<tr><th scope=col>&lt;chr&gt;</th><th scope=col>&lt;dbl&gt;</th><th scope=col>&lt;lgl&gt;</th></tr>\n",
       "</thead>\n",
       "<tbody>\n",
       "\t<tr><td>Tab</td><td>  2.078006</td><td>FALSE</td></tr>\n",
       "\t<tr><td>Tal</td><td>-18.194682</td><td>FALSE</td></tr>\n",
       "\t<tr><td>Taw</td><td> -7.506734</td><td>FALSE</td></tr>\n",
       "\t<tr><td>Tbl</td><td>-19.458704</td><td>FALSE</td></tr>\n",
       "\t<tr><td>Tbw</td><td> -9.275849</td><td>FALSE</td></tr>\n",
       "\t<tr><td>Tlw</td><td> 12.039076</td><td> TRUE</td></tr>\n",
       "</tbody>\n",
       "</table>\n"
      ],
      "text/latex": [
       "A tibble: 6 × 3\n",
       "\\begin{tabular}{lll}\n",
       " T & stat & reject\\\\\n",
       " <chr> & <dbl> & <lgl>\\\\\n",
       "\\hline\n",
       "\t Tab &   2.078006 & FALSE\\\\\n",
       "\t Tal & -18.194682 & FALSE\\\\\n",
       "\t Taw &  -7.506734 & FALSE\\\\\n",
       "\t Tbl & -19.458704 & FALSE\\\\\n",
       "\t Tbw &  -9.275849 & FALSE\\\\\n",
       "\t Tlw &  12.039076 &  TRUE\\\\\n",
       "\\end{tabular}\n"
      ],
      "text/markdown": [
       "\n",
       "A tibble: 6 × 3\n",
       "\n",
       "| T &lt;chr&gt; | stat &lt;dbl&gt; | reject &lt;lgl&gt; |\n",
       "|---|---|---|\n",
       "| Tab |   2.078006 | FALSE |\n",
       "| Tal | -18.194682 | FALSE |\n",
       "| Taw |  -7.506734 | FALSE |\n",
       "| Tbl | -19.458704 | FALSE |\n",
       "| Tbw |  -9.275849 | FALSE |\n",
       "| Tlw |  12.039076 |  TRUE |\n",
       "\n"
      ],
      "text/plain": [
       "  T   stat       reject\n",
       "1 Tab   2.078006 FALSE \n",
       "2 Tal -18.194682 FALSE \n",
       "3 Taw  -7.506734 FALSE \n",
       "4 Tbl -19.458704 FALSE \n",
       "5 Tbw  -9.275849 FALSE \n",
       "6 Tlw  12.039076  TRUE "
      ]
     },
     "metadata": {},
     "output_type": "display_data"
    }
   ],
   "source": [
    "n <- nrow(tidy_ca)\n",
    "# Pooled proportions\n",
    "p_hats <- cali_prop %>%\n",
    "              arrange(ethnicity) %>%\n",
    "              summarize(pab = round((proportion[1] + proportion[2]) / n ,4),\n",
    "                    pal = round((proportion[1] + proportion[3]) / n, 4),\n",
    "                    paw = round((proportion[1] + proportion[4]) / n, 4),\n",
    "                    pbl = round((proportion[2] + proportion[3]) / n, 4),\n",
    "                    pbw = round((proportion[2] + proportion[4]) / n, 4),\n",
    "                    plw = round((proportion[3] + proportion[4]) / n, 4)) %>%\n",
    "                    pivot_longer(cols = 1:6,\n",
    "                                names_to = \"pooled_phat\")\n",
    "pab = p_hats[1,] %>% pull()\n",
    "pal = p_hats[2,] %>% pull()\n",
    "paw = p_hats[3,] %>% pull()\n",
    "pbl = p_hats[4,] %>% pull()\n",
    "pbw = p_hats[5,] %>% pull()\n",
    "plw = p_hats[6,] %>% pull()\n",
    "\n",
    "# Calculating test stats\n",
    "test_stats <- cali_prop %>%\n",
    "              arrange(ethnicity) %>%\n",
    "              summarize(Tab = (proportion[1] - proportion[2]) / sqrt(pab*(1-pab) * (1/(2*n))) ,\n",
    "                                       Tal = (proportion[1] - proportion[3]) / sqrt(pal*(1-pal) * (1/(2*n))) ,\n",
    "                                       Taw = (proportion[1] - proportion[4]) / sqrt(paw*(1-paw) * (1/(2*n))) ,\n",
    "                                       Tbl = (proportion[2] - proportion[3]) / sqrt(pbl*(1-pbl) * (1/(2*n))) ,\n",
    "                                       Tbw = (proportion[2] - proportion[4]) / sqrt(pbw*(1-pbw) * (1/(2*n))) ,\n",
    "                                       Tlw = (proportion[3] - proportion[4]) / sqrt(plw*(1-plw) * (1/(2*n)))) %>%\n",
    "              pivot_longer(cols = 1:6,\n",
    "                                names_to = \"T\")  \n",
    "\n",
    "# Test it with significance level\n",
    "alpha = 0.05\n",
    "test_results <- test_stats %>%\n",
    "                rename(stat = value) %>%\n",
    "                mutate(reject = 2 *pt(stat, 19, lower.tail = FALSE)< alpha)\n",
    "test_results\n"
   ]
  },
  {
   "cell_type": "markdown",
   "id": "5fbc15c8-2afd-4d8d-8116-216ff43f221b",
   "metadata": {},
   "source": [
    "## 3. Discussion"
   ]
  },
  {
   "cell_type": "markdown",
   "id": "c65325c4-b600-438b-a5b2-c5e318b3655c",
   "metadata": {},
   "source": [
    "### 3.1 Interpretation\n",
    "\n",
    "Recall our hypotheses, by above table we could interpret the following results:\n",
    "1. $H_{0}: p_a = p_b$ VS $H_{A}: p_a \\neq p_b$\n",
    "\n",
    "2. $H_{0}: p_a = p_l$ VS $H_{A}: p_a \\neq p_l$\n",
    "\n",
    "3. $H_{0}: p_a = p_w$ VS $H_{A}: p_a \\neq p_w$\n",
    "\n",
    "4. $H_{0}: p_b = p_l$ VS $H_{A}: p_b \\neq p_l$\n",
    "\n",
    "5. $H_{0}: p_b = p_w$ VS $H_{A}: p_b \\neq p_w$\n",
    "\n",
    "6. $H_{0}: p_l = p_w$ VS $H_{A}: p_l \\neq p_w$\n",
    "\n",
    "At a significance level of $\\alpha = 0.05$, we will reject the $6$th hypothesis. We can conclude that the probability of a Latin person getting tested positive for COVID-19 is different from the probability of a White person in the state of California during the year 2021; this is subjected to $5\\%$ of Type-I error. It also means a difference between the four races because, for our null hypothesis, we set that every race has an equal chance of getting infected by COVID-19, hence we can draw conclusion on our research question:\n",
    "\n",
    "    `Is there significant difference in chances of getting tested positive for COVID-19 in CA during 2021 for ethnicities like Asian, Black, Latin, White?`\n",
    "    \n",
    "    \n",
    "As mentioned above, there is a difference between the four races, and we have enough evidence to reject our null hypotheses. Therefore, the chance of getting tested positive for COVID-19 in California in 2021 among the four different races is not the same.\n",
    "\n",
    "As bootstrapping was not feasible in our context; hence we had to choose an asymptotic method to do hypothesis testing. Moreover, this showed that human beings in front of natural catastrophes or unexpected events, the vulnerability is not the same; therefore, a particular race is more dangerous when facing pandemics like COVID-19.\n"
   ]
  },
  {
   "cell_type": "markdown",
   "id": "a78566cf",
   "metadata": {},
   "source": [
    "### 3.2 What impact could such findings have?\n",
    "\n",
    "The impact of our findings could help raise the awareness of COVID-19 as well as other infectious diseases, and it is not just for a specific race but for all. It could also be a factor and help explain why different regions or countries have different measurements of cases of COVID-19 as compared to others. On top of that, governments worldwide could implement different regulations and medical procedures for their citizens to help different control diseases."
   ]
  },
  {
   "cell_type": "markdown",
   "id": "31f684df",
   "metadata": {},
   "source": [
    "### 3.3 What future questions could this lead to?\n",
    "\n",
    "As mentioned above, the result of this project could lead to various questions. These include why this is the case, what can a specific race do to lower the chance of getting infected from different diseases, what they can do to improve their health status and immune system, what they should be aware of, and the effects on. The importance of this project is unquestionable, and the result of this project can lead to evolutionary questions to modern health questions. \n"
   ]
  },
  {
   "cell_type": "markdown",
   "id": "9e3a2105",
   "metadata": {},
   "source": [
    "### 3.4 Limitations\n",
    "\n",
    "Although this report is carefully and precisely analyzed, limitations still do exist. Different proportions of different races living within a region could significantly affect and impact the result. On top of that, different races could possibly have different occupations, therefore increasing or decreasing the contact of COVID-19 carriers. That could be a factor in the virus's transmission rate and impact the result. Other methodologies could be applied, such as putting more weight on the minority race and less on the majority race. This could help adjust them and make them into the same scale. The sample size and the missing values can be a considerable flaw in this report; some underlying co-funding variables are also unknown. Finally, we genuinely hope that this report could help or engage other researchers and scholars to explore further and study this field."
   ]
  },
  {
   "cell_type": "markdown",
   "id": "bbdb4ac2",
   "metadata": {},
   "source": [
    "## 4. Reference\n"
   ]
  },
  {
   "cell_type": "markdown",
   "id": "9745d4b3",
   "metadata": {},
   "source": [
    "Mankowski, N., Al-Qurayshi, Z., Souza, S., Campbell, B., Beighley, A., Denson, J., Mauldin, B., Bojanowski, C., Friedlander, P., & Zifodya, J. (2021). The Effect of Race, Socioeconomic Status, and Comorbidity on Patients Afflicted with COVID 19: A Local Perspective. Annals of Epidemiology. https://doi.org/10.1016/j.annepidem.2021.09.013\n",
    "<br>\n",
    "\n",
    "Credit, K. (2020). Neighbourhood inequity: Exploring the factors underlying racial and ethnic disparities in COVID‐19 testing and infection rates using ZIP code data in Chicago and New York. Regional Science Policy & Practice, 12(6), 1249–1271. https://doi.org/10.1111/rsp3.12321\n",
    "\n",
    "About the Racial Data Tracker. (n.d.). The COVID Tracking Project. Retrieved March 6, 2022, from https://covidtracking.com/race/about#download-the-data\n",
    "‌"
   ]
  }
 ],
 "metadata": {
  "kernelspec": {
   "display_name": "R",
   "language": "R",
   "name": "ir"
  },
  "language_info": {
   "codemirror_mode": "r",
   "file_extension": ".r",
   "mimetype": "text/x-r-source",
   "name": "R",
   "pygments_lexer": "r",
   "version": "3.6.1"
  }
 },
 "nbformat": 4,
 "nbformat_minor": 5
}
