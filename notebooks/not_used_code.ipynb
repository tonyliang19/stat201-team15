{
 "cells": [
  {
   "cell_type": "code",
   "execution_count": null,
   "id": "7e4488fa-aa2d-4e6a-90a9-a4b348b057e2",
   "metadata": {},
   "outputs": [],
   "source": [
    "cali_prop <- cases_piped2 %>%\n",
    "              filter(State == \"CA\", Year == 2021) %>%\n",
    "              summarize(total_pos = sum(Cases_Total),\n",
    "                        p_white = sum(Cases_White) / sum(total_pos),\n",
    "                        p_black = sum(Cases_Black) / sum(total_pos),\n",
    "                        p_asian = sum(Cases_Asian) / sum(total_pos),\n",
    "                        p_latin = sum(Cases_Latinx) / sum(total_pos)) %>%\n",
    "               select(-total_pos) %>%\n",
    "              pivot_longer(cols = 1:4,\n",
    "                          names_to = \"Ethnicity\") %>%\n",
    "              rename(proportion = value) \n",
    "            \n",
    "\n",
    "bp <- ggplot(cali_prop, aes(x=\"\", y=proportion, fill=Ethnicity))+\n",
    "geom_bar(stat = \"identity\")"
   ]
  },
  {
   "cell_type": "code",
   "execution_count": null,
   "id": "2a528ad0-4346-40ff-a3e0-075f8a02784a",
   "metadata": {},
   "outputs": [],
   "source": [
    "#ggsave(\"../plots/states-vs-total-pos-cases.png\",\n",
    "#       width = 8, height = 4)"
   ]
  }
 ],
 "metadata": {
  "kernelspec": {
   "display_name": "R",
   "language": "R",
   "name": "ir"
  },
  "language_info": {
   "codemirror_mode": "r",
   "file_extension": ".r",
   "mimetype": "text/x-r-source",
   "name": "R",
   "pygments_lexer": "r",
   "version": "4.1.2"
  }
 },
 "nbformat": 4,
 "nbformat_minor": 5
}
